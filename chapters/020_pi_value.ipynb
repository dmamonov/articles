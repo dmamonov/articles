{
 "cells": [
  {
   "metadata": {},
   "cell_type": "markdown",
   "source": [
    "# Progression of Computing Pi Value\n",
    "\n",
    "Why Pi value is important?\n",
    "\n"
   ]
  },
  {
   "metadata": {
    "ExecuteTime": {
     "end_time": "2025-10-05T15:46:30.218348Z",
     "start_time": "2025-10-05T15:46:29.971455Z"
    }
   },
   "cell_type": "code",
   "source": [
    "fun formatPi(pi: Double, who: String, where: String, time: String): String =\n",
    "    \"π ≈ ${\"%.17f\".format(pi)}, Δ=${\"%+.17f\".format(Math.PI - pi)} | 👤$who | 📍$where | 📅$time\"\n",
    "\n",
    "fun square(value: Double) = value * value\n",
    "fun power(value: Double, exponent: Int): Double = if (exponent == 0) 1.0 else value * power(value, exponent - 1)\n",
    "fun sqrt(value: Double) = Math.sqrt(value)\n",
    "fun factorial(n: Int): Int = if (n <= 1) 1 else n * factorial(n - 1)"
   ],
   "outputs": [],
   "execution_count": 1
  },
  {
   "metadata": {
    "ExecuteTime": {
     "end_time": "2025-10-05T15:46:30.298722Z",
     "start_time": "2025-10-05T15:46:30.226353Z"
    }
   },
   "cell_type": "code",
   "source": "println(formatPi(25 / 8.0, \"❓\", \"Babylonians\", \"c.1900-1600 BCE\"))",
   "outputs": [
    {
     "name": "stdout",
     "output_type": "stream",
     "text": [
      "π ≈ 3.12500000000000000, Δ=+0.01659265358979312 | 👤❓ | 📍Babylonians | 📅c.1900-1600 BCE\n"
     ]
    }
   ],
   "execution_count": 2
  },
  {
   "metadata": {
    "ExecuteTime": {
     "end_time": "2025-10-05T15:46:30.395907Z",
     "start_time": "2025-10-05T15:46:30.316542Z"
    }
   },
   "cell_type": "code",
   "source": "println(formatPi(square(16/9.0),  \"❓\", \"Ancient Egyptians\", \"c. 1650 BCE\"))",
   "outputs": [
    {
     "name": "stdout",
     "output_type": "stream",
     "text": [
      "π ≈ 3.16049382716049370, Δ=-0.01890117357070054 | 👤❓ | 📍Ancient Egyptians | 📅c. 1650 BCE\n"
     ]
    }
   ],
   "execution_count": 3
  },
  {
   "metadata": {
    "ExecuteTime": {
     "end_time": "2025-10-05T15:46:30.476520Z",
     "start_time": "2025-10-05T15:46:30.414641Z"
    }
   },
   "cell_type": "code",
   "source": [
    "println(formatPi(223/71.0, \"Archimedes of Syracuse\", \"Greece\", \"c. 250 BCE\")+\" (lower bound)\")\n",
    "println(formatPi(220/70.0, \"Archimedes of Syracuse\", \"Greece\", \"c. 250 BCE\")+\" (upper bound)\")"
   ],
   "outputs": [
    {
     "name": "stdout",
     "output_type": "stream",
     "text": [
      "π ≈ 3.14084507042253500, Δ=+0.00074758316725809 | 👤Archimedes of Syracuse | 📍Greece | 📅c. 250 BCE (lower bound)\n",
      "π ≈ 3.14285714285714300, Δ=-0.00126448926734968 | 👤Archimedes of Syracuse | 📍Greece | 📅c. 250 BCE (upper bound)\n"
     ]
    }
   ],
   "execution_count": 4
  },
  {
   "metadata": {
    "ExecuteTime": {
     "end_time": "2025-10-05T15:46:30.551470Z",
     "start_time": "2025-10-05T15:46:30.511043Z"
    }
   },
   "cell_type": "code",
   "source": "println(formatPi(355 / 113.0, \"Zu Chongzhi\", \"China\", \"c. 250 BCE\"))",
   "outputs": [
    {
     "name": "stdout",
     "output_type": "stream",
     "text": [
      "π ≈ 3.14159292035398250, Δ=-0.00000026676418940 | 👤Zu Chongzhi | 📍China | 📅c. 250 BCE\n"
     ]
    }
   ],
   "execution_count": 5
  },
  {
   "cell_type": "code",
   "metadata": {
    "collapsed": true,
    "ExecuteTime": {
     "end_time": "2025-10-05T15:46:31.049137Z",
     "start_time": "2025-10-05T15:46:30.565506Z"
    }
   },
   "source": [
    "var sideCount = 6\n",
    "var sideLength = 1.0\n",
    "fun showArchimedes() {\n",
    "    val pi = sideCount * sideLength / 2.0\n",
    "    println(formatPi(pi, \"Archimedes\", \"Greece\", \"c. 250 BCE\") + \" | sides= ${\"%7d\".format(sideCount)}\")\n",
    "}\n",
    "\n",
    "repeat(10) {\n",
    "    showArchimedes()\n",
    "    val halfSideLength = sideLength / 2.0\n",
    "    val otherSideLength = 1.0 - sqrt(1.0 - square(halfSideLength))\n",
    "    sideLength = sqrt(square(otherSideLength) + square(halfSideLength))\n",
    "    sideCount = sideCount * 2\n",
    "}\n",
    "showArchimedes()"
   ],
   "outputs": [
    {
     "name": "stdout",
     "output_type": "stream",
     "text": [
      "π ≈ 3.00000000000000000, Δ=+0.14159265358979312 | 👤Archimedes | 📍Greece | 📅c. 250 BCE | sides=       6\n",
      "π ≈ 3.10582854123024900, Δ=+0.03576411235954424 | 👤Archimedes | 📍Greece | 📅c. 250 BCE | sides=      12\n",
      "π ≈ 3.13262861328123780, Δ=+0.00896404030855535 | 👤Archimedes | 📍Greece | 📅c. 250 BCE | sides=      24\n",
      "π ≈ 3.13935020304686670, Δ=+0.00224245054292638 | 👤Archimedes | 📍Greece | 📅c. 250 BCE | sides=      48\n",
      "π ≈ 3.14103195089051000, Δ=+0.00056070269928332 | 👤Archimedes | 📍Greece | 📅c. 250 BCE | sides=      96\n",
      "π ≈ 3.14145247228546240, Δ=+0.00014018130433069 | 👤Archimedes | 📍Greece | 📅c. 250 BCE | sides=     192\n",
      "π ≈ 3.14155760791185800, Δ=+0.00003504567793522 | 👤Archimedes | 📍Greece | 📅c. 250 BCE | sides=     384\n",
      "π ≈ 3.14158389214831860, Δ=+0.00000876144147455 | 👤Archimedes | 📍Greece | 📅c. 250 BCE | sides=     768\n",
      "π ≈ 3.14159046322805050, Δ=+0.00000219036174265 | 👤Archimedes | 📍Greece | 📅c. 250 BCE | sides=    1536\n",
      "π ≈ 3.14159210599927170, Δ=+0.00000054759052137 | 👤Archimedes | 📍Greece | 📅c. 250 BCE | sides=    3072\n",
      "π ≈ 3.14159251669215770, Δ=+0.00000013689763545 | 👤Archimedes | 📍Greece | 📅c. 250 BCE | sides=    6144\n"
     ]
    }
   ],
   "execution_count": 6
  },
  {
   "metadata": {
    "ExecuteTime": {
     "end_time": "2025-10-05T15:46:31.293328Z",
     "start_time": "2025-10-05T15:46:31.064816Z"
    }
   },
   "cell_type": "code",
   "source": [
    "var approx = 1.0\n",
    "var sign = 1.0\n",
    "var divisor = 1.0\n",
    "fun showMadhava() {\n",
    "    println(formatPi(approx * 4.0, \"Madhava\", \"India\", \"c. 1400 CE\"))\n",
    "}\n",
    "repeat(10) {\n",
    "    showMadhava()\n",
    "    divisor += 2.0\n",
    "    sign = -sign\n",
    "    approx += sign / divisor\n",
    "}\n",
    "showMadhava()"
   ],
   "outputs": [
    {
     "name": "stdout",
     "output_type": "stream",
     "text": [
      "π ≈ 4.00000000000000000, Δ=-0.85840734641020690 | 👤Madhava | 📍India | 📅c. 1400 CE\n",
      "π ≈ 2.66666666666666700, Δ=+0.47492598692312615 | 👤Madhava | 📍India | 📅c. 1400 CE\n",
      "π ≈ 3.46666666666666700, Δ=-0.32507401307687367 | 👤Madhava | 📍India | 📅c. 1400 CE\n",
      "π ≈ 2.89523809523809560, Δ=+0.24635455835169750 | 👤Madhava | 📍India | 📅c. 1400 CE\n",
      "π ≈ 3.33968253968254030, Δ=-0.19808988609274714 | 👤Madhava | 📍India | 📅c. 1400 CE\n",
      "π ≈ 2.97604617604617650, Δ=+0.16554647754361662 | 👤Madhava | 📍India | 📅c. 1400 CE\n",
      "π ≈ 3.28373848373848440, Δ=-0.14214583014869130 | 👤Madhava | 📍India | 📅c. 1400 CE\n",
      "π ≈ 3.01707181707181800, Δ=+0.12452083651797530 | 👤Madhava | 📍India | 📅c. 1400 CE\n",
      "π ≈ 3.25236593471887670, Δ=-0.11077328112908358 | 👤Madhava | 📍India | 📅c. 1400 CE\n",
      "π ≈ 3.04183961892940320, Δ=+0.09975303466038987 | 👤Madhava | 📍India | 📅c. 1400 CE\n",
      "π ≈ 3.23231580940559400, Δ=-0.09072315581580082 | 👤Madhava | 📍India | 📅c. 1400 CE\n"
     ]
    }
   ],
   "execution_count": 7
  },
  {
   "metadata": {
    "ExecuteTime": {
     "end_time": "2025-10-05T15:46:31.683429Z",
     "start_time": "2025-10-05T15:46:31.311533Z"
    }
   },
   "cell_type": "code",
   "source": [
    "var approx = 3.0\n",
    "fun showNilakantha() {\n",
    "    println(formatPi(approx, \"Nilakantha\", \"India\", \"c. 1500 CE\"))\n",
    "}\n",
    "var sign = -1.0\n",
    "var base = 0.0\n",
    "repeat(10) {\n",
    "    showNilakantha()\n",
    "\n",
    "    sign = -sign\n",
    "    base += 2.0\n",
    "\n",
    "    val divisor = base * (base + 1) * (base + 2)\n",
    "    approx += sign * (4.0 / divisor)\n",
    "}\n",
    "showNilakantha()"
   ],
   "outputs": [
    {
     "name": "stdout",
     "output_type": "stream",
     "text": [
      "π ≈ 3.00000000000000000, Δ=+0.14159265358979312 | 👤Nilakantha | 📍India | 📅c. 1500 CE\n",
      "π ≈ 3.16666666666666650, Δ=-0.02507401307687340 | 👤Nilakantha | 📍India | 📅c. 1500 CE\n",
      "π ≈ 3.13333333333333330, Δ=+0.00825932025645981 | 👤Nilakantha | 📍India | 📅c. 1500 CE\n",
      "π ≈ 3.14523809523809500, Δ=-0.00364544164830205 | 👤Nilakantha | 📍India | 📅c. 1500 CE\n",
      "π ≈ 3.13968253968253960, Δ=+0.00191011390725349 | 👤Nilakantha | 📍India | 📅c. 1500 CE\n",
      "π ≈ 3.14271284271284260, Δ=-0.00112018912304945 | 👤Nilakantha | 📍India | 📅c. 1500 CE\n",
      "π ≈ 3.14088134088134070, Δ=+0.00071131270845237 | 👤Nilakantha | 📍India | 📅c. 1500 CE\n",
      "π ≈ 3.14207181707181700, Δ=-0.00047916348202381 | 👤Nilakantha | 📍India | 📅c. 1500 CE\n",
      "π ≈ 3.14125482360776460, Δ=+0.00033782998202847 | 👤Nilakantha | 📍India | 📅c. 1500 CE\n",
      "π ≈ 3.14183961892940200, Δ=-0.00024696533960888 | 👤Nilakantha | 📍India | 📅c. 1500 CE\n",
      "π ≈ 3.14140671849650180, Δ=+0.00018593509329135 | 👤Nilakantha | 📍India | 📅c. 1500 CE\n"
     ]
    }
   ],
   "execution_count": 8
  },
  {
   "metadata": {
    "ExecuteTime": {
     "end_time": "2025-10-05T15:46:32.164841Z",
     "start_time": "2025-10-05T15:46:31.742736Z"
    }
   },
   "cell_type": "code",
   "source": [
    "var approx = 1.0\n",
    "fun showEulerBesel() {\n",
    "    val pi = sqrt(approx * 6.0)\n",
    "    println(formatPi(pi, \"Leonhard Euler\", \"Switzerland\", \"c. 1735 CE\"))\n",
    "}\n",
    "var n = 1.0\n",
    "repeat(10) {\n",
    "    showEulerBesel()\n",
    "    n += 1.0\n",
    "    approx += 1.0 / (n * n)\n",
    "}\n",
    "showEulerBesel()"
   ],
   "outputs": [
    {
     "name": "stdout",
     "output_type": "stream",
     "text": [
      "π ≈ 2.44948974278317800, Δ=+0.69210291080661520 | 👤Leonhard Euler | 📍Switzerland | 📅c. 1735 CE\n",
      "π ≈ 2.73861278752583060, Δ=+0.40297986606396250 | 👤Leonhard Euler | 📍Switzerland | 📅c. 1735 CE\n",
      "π ≈ 2.85773803324704150, Δ=+0.28385462034275166 | 👤Leonhard Euler | 📍Switzerland | 📅c. 1735 CE\n",
      "π ≈ 2.92261298612503050, Δ=+0.21897966746476260 | 👤Leonhard Euler | 📍Switzerland | 📅c. 1735 CE\n",
      "π ≈ 2.96338770103857070, Δ=+0.17820495255122237 | 👤Leonhard Euler | 📍Switzerland | 📅c. 1735 CE\n",
      "π ≈ 2.99137649474841850, Δ=+0.15021615884137463 | 👤Leonhard Euler | 📍Switzerland | 📅c. 1735 CE\n",
      "π ≈ 3.01177394784621400, Δ=+0.12981870574357890 | 👤Leonhard Euler | 📍Switzerland | 📅c. 1735 CE\n",
      "π ≈ 3.02729785665784300, Δ=+0.11429479693195033 | 👤Leonhard Euler | 📍Switzerland | 📅c. 1735 CE\n",
      "π ≈ 3.03950758956105330, Δ=+0.10208506402873985 | 👤Leonhard Euler | 📍Switzerland | 📅c. 1735 CE\n",
      "π ≈ 3.04936163598207000, Δ=+0.09223101760772323 | 👤Leonhard Euler | 📍Switzerland | 📅c. 1735 CE\n",
      "π ≈ 3.05748150670756270, Δ=+0.08411114688223043 | 👤Leonhard Euler | 📍Switzerland | 📅c. 1735 CE\n"
     ]
    }
   ],
   "execution_count": 9
  },
  {
   "metadata": {
    "ExecuteTime": {
     "end_time": "2025-10-05T15:46:32.654493Z",
     "start_time": "2025-10-05T15:46:32.170260Z"
    }
   },
   "cell_type": "code",
   "source": [
    "var approx = 0.0\n",
    "fun showRamanujan() {\n",
    "    val pi = 1.0 / ((2.0 * sqrt(2.0) / 9801.0) * approx)\n",
    "    println(formatPi(pi, \"Srinivasa Ramanujan\", \"India\", \"c. 1910 CE\"))\n",
    "}\n",
    "\n",
    "fun increment(k: Int): Double =\n",
    "    factorial(4 * k) * (1103 + 26390 * k) /\n",
    "            (power(factorial(k).toDouble(), 4) * power(396.0, 4 * k))\n",
    "\n",
    "var k = 0\n",
    "repeat(4) {\n",
    "    approx += increment(k)\n",
    "    showRamanujan()\n",
    "    k++\n",
    "}\n"
   ],
   "outputs": [
    {
     "name": "stdout",
     "output_type": "stream",
     "text": [
      "π ≈ 3.14159273001330550, Δ=-0.00000007642351241 | 👤Srinivasa Ramanujan | 📍India | 📅c. 1910 CE\n",
      "π ≈ 3.14159265358979360, Δ=-0.00000000000000044 | 👤Srinivasa Ramanujan | 📍India | 📅c. 1910 CE\n",
      "π ≈ 3.14159265358979400, Δ=-0.00000000000000089 | 👤Srinivasa Ramanujan | 📍India | 📅c. 1910 CE\n",
      "π ≈ 3.14159265358979400, Δ=-0.00000000000000089 | 👤Srinivasa Ramanujan | 📍India | 📅c. 1910 CE\n"
     ]
    }
   ],
   "execution_count": 10
  },
  {
   "metadata": {
    "ExecuteTime": {
     "end_time": "2025-10-05T15:46:33.049580Z",
     "start_time": "2025-10-05T15:46:32.712889Z"
    }
   },
   "cell_type": "code",
   "source": [
    "var approx = 0.0\n",
    "fun showChudnovsky() {\n",
    "    val pi = 1.0 / (12.0 * approx)\n",
    "    println(formatPi(pi, \"Chudnovsky brothers\", \"USA\", \"c. 1987 CE\"))\n",
    "}\n",
    "\n",
    "fun increment(k: Int): Double =\n",
    "    power(-1.0, k) * factorial(6 * k) * (13591409 + 545140134 * k) /\n",
    "            (factorial(3 * k) * power(factorial(k).toDouble(), 3) * power(640320.0, 3 * k + 1) * sqrt(640320.0))\n",
    "\n",
    "k = 0\n",
    "repeat(2) {\n",
    "    approx += increment(k)\n",
    "    showChudnovsky()\n",
    "    k++\n",
    "}"
   ],
   "outputs": [
    {
     "name": "stdout",
     "output_type": "stream",
     "text": [
      "π ≈ 3.14159265358973400, Δ=+0.00000000000005906 | 👤Chudnovsky brothers | 📍USA | 📅c. 1987 CE\n",
      "π ≈ 3.14159265358979300, Δ=+0.00000000000000000 | 👤Chudnovsky brothers | 📍USA | 📅c. 1987 CE\n"
     ]
    }
   ],
   "execution_count": 11
  },
  {
   "metadata": {
    "ExecuteTime": {
     "end_time": "2025-10-05T15:46:33.254007Z",
     "start_time": "2025-10-05T15:46:33.070477Z"
    }
   },
   "cell_type": "code",
   "source": [
    "//Vieta’s Formula (1593)\n",
    "var approx = 1.0\n",
    "var factor = sqrt(2.0)\n",
    "fun showVieta() {\n",
    "    val pi = 2.0 / approx\n",
    "    println(formatPi(pi, \"François Viète\", \"France\", \"c. 1593 CE\"))\n",
    "}\n",
    "repeat(10) {\n",
    "    showVieta()\n",
    "    approx *= factor / 2.0\n",
    "    factor = sqrt(2.0 + factor)\n",
    "}\n",
    "showVieta()"
   ],
   "outputs": [
    {
     "name": "stdout",
     "output_type": "stream",
     "text": [
      "π ≈ 2.00000000000000000, Δ=+1.14159265358979310 | 👤François Viète | 📍France | 📅c. 1593 CE\n",
      "π ≈ 2.82842712474619000, Δ=+0.31316552884360327 | 👤François Viète | 📍France | 📅c. 1593 CE\n",
      "π ≈ 3.06146745892071830, Δ=+0.08012519466907486 | 👤François Viète | 📍France | 📅c. 1593 CE\n",
      "π ≈ 3.12144515225805200, Δ=+0.02014750133174115 | 👤François Viète | 📍France | 📅c. 1593 CE\n",
      "π ≈ 3.13654849054593900, Δ=+0.00504416304385424 | 👤François Viète | 📍France | 📅c. 1593 CE\n",
      "π ≈ 3.14033115695475250, Δ=+0.00126149663504060 | 👤François Viète | 📍France | 📅c. 1593 CE\n",
      "π ≈ 3.14127725093277300, Δ=+0.00031540265702024 | 👤François Viète | 📍France | 📅c. 1593 CE\n",
      "π ≈ 3.14151380114430100, Δ=+0.00007885244549222 | 👤François Viète | 📍France | 📅c. 1593 CE\n",
      "π ≈ 3.14157294036709130, Δ=+0.00001971322270178 | 👤François Viète | 📍France | 📅c. 1593 CE\n",
      "π ≈ 3.14158772527715900, Δ=+0.00000492831263399 | 👤François Viète | 📍France | 📅c. 1593 CE\n",
      "π ≈ 3.14159142151119970, Δ=+0.00000123207859337 | 👤François Viète | 📍France | 📅c. 1593 CE\n"
     ]
    }
   ],
   "execution_count": 12
  },
  {
   "metadata": {
    "ExecuteTime": {
     "end_time": "2025-10-05T15:46:33.474381Z",
     "start_time": "2025-10-05T15:46:33.297263Z"
    }
   },
   "cell_type": "code",
   "source": [
    "//monte carlo method\n",
    "var insideCircle = 0\n",
    "var totalPoints = 0\n",
    "fun showMonteCarlo() {\n",
    "    val pi = 4.0 * insideCircle / totalPoints\n",
    "    println(formatPi(pi, \"❓\", \"❓\", \"❓\"))\n",
    "}\n",
    "repeat(10_000) {\n",
    "    val x = Math.random()\n",
    "    val y = Math.random()\n",
    "    if (x * x + y * y <= 1.0) {\n",
    "        insideCircle++\n",
    "    }\n",
    "    totalPoints++\n",
    "    if (it % 1000 == 0) {\n",
    "        showMonteCarlo()\n",
    "    }\n",
    "}"
   ],
   "outputs": [
    {
     "name": "stdout",
     "output_type": "stream",
     "text": [
      "π ≈ 4.00000000000000000, Δ=-0.85840734641020690 | 👤❓ | 📍❓ | 📅❓\n",
      "π ≈ 3.08091908091908100, Δ=+0.06067357267071216 | 👤❓ | 📍❓ | 📅❓\n",
      "π ≈ 3.13243378310844600, Δ=+0.00915887048134723 | 👤❓ | 📍❓ | 📅❓\n",
      "π ≈ 3.14828390536487830, Δ=-0.00669125177508523 | 👤❓ | 📍❓ | 📅❓\n",
      "π ≈ 3.14021494626343400, Δ=+0.00137770732635900 | 👤❓ | 📍❓ | 📅❓\n",
      "π ≈ 3.13937212557488500, Δ=+0.00222052801490813 | 👤❓ | 📍❓ | 📅❓\n",
      "π ≈ 3.14947508748541900, Δ=-0.00788243389562604 | 👤❓ | 📍❓ | 📅❓\n",
      "π ≈ 3.15497786030567040, Δ=-0.01338520671587729 | 👤❓ | 📍❓ | 📅❓\n",
      "π ≈ 3.15310586176727900, Δ=-0.01151320817748580 | 👤❓ | 📍❓ | 📅❓\n",
      "π ≈ 3.14453949561159900, Δ=-0.00294684202180573 | 👤❓ | 📍❓ | 📅❓\n"
     ]
    }
   ],
   "execution_count": 13
  }
 ],
 "metadata": {
  "kernelspec": {
   "display_name": "Kotlin",
   "language": "kotlin",
   "name": "kotlin"
  },
  "language_info": {
   "name": "kotlin",
   "version": "2.2.20-Beta2",
   "mimetype": "text/x-kotlin",
   "file_extension": ".kt",
   "pygments_lexer": "kotlin",
   "codemirror_mode": "text/x-kotlin",
   "nbconvert_exporter": ""
  }
 },
 "nbformat": 4,
 "nbformat_minor": 0
}
