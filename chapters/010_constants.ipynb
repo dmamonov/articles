{
 "cells": [
  {
   "metadata": {},
   "cell_type": "markdown",
   "source": "# Basic Time Constants"
  },
  {
   "metadata": {
    "collapsed": true,
    "ExecuteTime": {
     "end_time": "2025-10-04T10:12:59.105576Z",
     "start_time": "2025-10-04T10:12:59.036071Z"
    }
   },
   "cell_type": "code",
   "source": [
    "val secondsInOneHour = 60 * 60\n",
    "println(\"Number of seconds in 1 hour: $secondsInOneHour\")"
   ],
   "outputs": [
    {
     "name": "stdout",
     "output_type": "stream",
     "text": [
      "Number of seconds in 1 hour: 3600\n"
     ]
    }
   ],
   "execution_count": 32
  },
  {
   "metadata": {
    "ExecuteTime": {
     "end_time": "2025-10-04T10:12:59.171472Z",
     "start_time": "2025-10-04T10:12:59.113963Z"
    }
   },
   "cell_type": "code",
   "source": [
    "val secondsInOneDay = 24 * secondsInOneHour\n",
    "println(\"Number of seconds in 1 day: $secondsInOneDay\")"
   ],
   "outputs": [
    {
     "name": "stdout",
     "output_type": "stream",
     "text": [
      "Number of seconds in 1 day: 86400\n"
     ]
    }
   ],
   "execution_count": 33
  },
  {
   "metadata": {
    "ExecuteTime": {
     "end_time": "2025-10-04T10:12:59.210935Z",
     "start_time": "2025-10-04T10:12:59.177843Z"
    }
   },
   "cell_type": "code",
   "source": [
    "val secondsInOneWeek = 7 * secondsInOneDay\n",
    "println(\"Number of seconds in 1 week: $secondsInOneWeek\")"
   ],
   "outputs": [
    {
     "name": "stdout",
     "output_type": "stream",
     "text": [
      "Number of seconds in 1 week: 604800\n"
     ]
    }
   ],
   "execution_count": 34
  },
  {
   "metadata": {
    "ExecuteTime": {
     "end_time": "2025-10-04T10:12:59.250008Z",
     "start_time": "2025-10-04T10:12:59.218872Z"
    }
   },
   "cell_type": "code",
   "source": [
    "val daysInOneMillionSeconds = 1_000_000 / secondsInOneDay\n",
    "println(\"Number of days in 1 million seconds: $daysInOneMillionSeconds\")"
   ],
   "outputs": [
    {
     "name": "stdout",
     "output_type": "stream",
     "text": [
      "Number of days in 1 million seconds: 11\n"
     ]
    }
   ],
   "execution_count": 35
  },
  {
   "metadata": {
    "ExecuteTime": {
     "end_time": "2025-10-04T10:12:59.287043Z",
     "start_time": "2025-10-04T10:12:59.256566Z"
    }
   },
   "cell_type": "code",
   "source": [
    "val secondsInOneMonth = 30 * secondsInOneDay\n",
    "println(\"Number of seconds in 1 month (appox. 30 days): $secondsInOneMonth\")"
   ],
   "outputs": [
    {
     "name": "stdout",
     "output_type": "stream",
     "text": [
      "Number of seconds in 1 month (appox. 30 days): 2592000\n"
     ]
    }
   ],
   "execution_count": 36
  },
  {
   "metadata": {
    "ExecuteTime": {
     "end_time": "2025-10-04T10:18:17.306880Z",
     "start_time": "2025-10-04T10:18:17.205896Z"
    }
   },
   "cell_type": "code",
   "source": [
    "val secondsInOneYear = 365 * secondsInOneDay\n",
    "println(\"Number of seconds in 1 year: $secondsInOneYear\")"
   ],
   "outputs": [
    {
     "name": "stdout",
     "output_type": "stream",
     "text": [
      "Number of seconds in 1 year: 31536000\n"
     ]
    }
   ],
   "execution_count": 39
  },
  {
   "metadata": {},
   "cell_type": "markdown",
   "source": "## Basic Power of 2 Constants"
  },
  {
   "metadata": {
    "ExecuteTime": {
     "end_time": "2025-10-04T10:29:45.188944Z",
     "start_time": "2025-10-04T10:29:45.142637Z"
    }
   },
   "cell_type": "code",
   "source": [
    "fun power(value: Int, exponent: Int): Long {\n",
    "    check(value >= 0) { \"value must be a non-negative number\" }\n",
    "    check(exponent >= 0) { \"exponent must be non-negative number\" }\n",
    "    return if (exponent == 0) 1\n",
    "    else value * power(value, exponent - 1)\n",
    "}"
   ],
   "outputs": [],
   "execution_count": 58
  },
  {
   "metadata": {
    "ExecuteTime": {
     "end_time": "2025-10-04T10:53:04.593927Z",
     "start_time": "2025-10-04T10:53:04.221677Z"
    }
   },
   "cell_type": "code",
   "source": [
    "print(\"  \"); print(power(2,0)); println(\" = 2^0 - any number to the power of 0 is 1\")\n",
    "print(\"  \"); print(power(2,1)); println(\" = 2^1 - this is number of values of 1 bit or boolean (true/false)\")\n",
    "print(\"  \"); print(power(2,2)); println(\" = 2^2 - this is number od DNA nucleotides (A, T, C, G)\")\n",
    "print(\"  \"); print(power(2,3)); println(\" = 2^3 - this is number bits in 1 byte\")\n",
    "print(\" \");  print(power(2,4)); println(\" = 2^4 - this is number of compass points (North, Noth-North-East, ...)\")\n",
    "print(\" \");  print(power(2,5)); println(\" = 2^5 - number of bits in integer, freezing temperature in Fahrenheit scale\")\n",
    "print(\" \");  print(power(2,6)); println(\" = 2^6 - this is numebr of cell on a chess board\")\n",
    "print(\"\");   print(power(2,7)); println(\" = 2^7 - this is a size of ASCII table\")\n",
    "print(\"\");   print(power(2,8)); println(\" = 2^8 - this is unique number of values in 1 byte\")"
   ],
   "outputs": [
    {
     "name": "stdout",
     "output_type": "stream",
     "text": [
      "  1 = 2^0 - any number to the power of 0 is 1\n",
      "  2 = 2^1 - this is number of values of 1 bit or boolean (true/false)\n",
      "  4 = 2^2 - this is number od DNA nucleotides (A, T, C, G)\n",
      "  8 = 2^3 - this is number bits in 1 byte\n",
      " 16 = 2^4 - this is number of compass points (North, Noth-North-East, ...)\n",
      " 32 = 2^5 - number of bits in integer, freezing temperature in Fahrenheit scale\n",
      " 64 = 2^6 - this is numebr of cell on a chess board\n",
      "128 = 2^7 - this is a size of ASCII table\n",
      "256 = 2^8 - this is unique number of values in 1 byte\n"
     ]
    }
   ],
   "execution_count": 81
  },
  {
   "metadata": {},
   "cell_type": "markdown",
   "source": "## Data Size Constants"
  },
  {
   "metadata": {
    "ExecuteTime": {
     "end_time": "2025-10-04T10:45:29.581841Z",
     "start_time": "2025-10-04T10:45:29.347980Z"
    }
   },
   "cell_type": "code",
   "source": [
    "print(\"            \"); print(power(2,10)); println(\" = 2^10 - this is 1 Kilobyte (KB)\")\n",
    "print(\"         \");    print(power(2,20)); println(\" = 2^20 - this is 1 Megabyte (MB)\")\n",
    "print(\"      \");       print(power(2,30)); println(\" = 2^30 - this is 1 Gigabyte (GB)\")\n",
    "print(\"   \");          print(power(2,40)); println(\" = 2^40 - this is 1 Terabyte (TB)\")\n",
    "print(\"\");             print(power(2,50)); println(\" = 2^50 - this is 1 Petabyte (PB)\")"
   ],
   "outputs": [
    {
     "name": "stdout",
     "output_type": "stream",
     "text": [
      "            1024 = 2^10 - this is 1 Kilobyte (KB)\n",
      "         1048576 = 2^20 - this is 1 Megabyte (MB)\n",
      "      1073741824 = 2^30 - this is 1 Gigabyte (GB)\n",
      "   1099511627776 = 2^40 - this is 1 Terabyte (TB)\n",
      "1125899906842624 = 2^50 - this is 1 Petabyte (PB)\n"
     ]
    }
   ],
   "execution_count": 77
  },
  {
   "metadata": {},
   "cell_type": "markdown",
   "source": "## ASCII Table"
  },
  {
   "metadata": {
    "ExecuteTime": {
     "end_time": "2025-10-04T10:48:48.085535Z",
     "start_time": "2025-10-04T10:48:48.011449Z"
    }
   },
   "cell_type": "code",
   "source": [
    "for (i in 32..127) {\n",
    "    print(\"${\"%3d\".format(i)}: '${i.toChar()}'\\t\")\n",
    "    if ((i - 31) % 8 == 0) println()\n",
    "}"
   ],
   "outputs": [
    {
     "name": "stdout",
     "output_type": "stream",
     "text": [
      " 32: ' '\t 33: '!'\t 34: '\"'\t 35: '#'\t 36: '$'\t 37: '%'\t 38: '&'\t 39: '''\t\n",
      " 40: '('\t 41: ')'\t 42: '*'\t 43: '+'\t 44: ','\t 45: '-'\t 46: '.'\t 47: '/'\t\n",
      " 48: '0'\t 49: '1'\t 50: '2'\t 51: '3'\t 52: '4'\t 53: '5'\t 54: '6'\t 55: '7'\t\n",
      " 56: '8'\t 57: '9'\t 58: ':'\t 59: ';'\t 60: '<'\t 61: '='\t 62: '>'\t 63: '?'\t\n",
      " 64: '@'\t 65: 'A'\t 66: 'B'\t 67: 'C'\t 68: 'D'\t 69: 'E'\t 70: 'F'\t 71: 'G'\t\n",
      " 72: 'H'\t 73: 'I'\t 74: 'J'\t 75: 'K'\t 76: 'L'\t 77: 'M'\t 78: 'N'\t 79: 'O'\t\n",
      " 80: 'P'\t 81: 'Q'\t 82: 'R'\t 83: 'S'\t 84: 'T'\t 85: 'U'\t 86: 'V'\t 87: 'W'\t\n",
      " 88: 'X'\t 89: 'Y'\t 90: 'Z'\t 91: '['\t 92: '\\'\t 93: ']'\t 94: '^'\t 95: '_'\t\n",
      " 96: '`'\t 97: 'a'\t 98: 'b'\t 99: 'c'\t100: 'd'\t101: 'e'\t102: 'f'\t103: 'g'\t\n",
      "104: 'h'\t105: 'i'\t106: 'j'\t107: 'k'\t108: 'l'\t109: 'm'\t110: 'n'\t111: 'o'\t\n",
      "112: 'p'\t113: 'q'\t114: 'r'\t115: 's'\t116: 't'\t117: 'u'\t118: 'v'\t119: 'w'\t\n",
      "120: 'x'\t121: 'y'\t122: 'z'\t123: '{'\t124: '|'\t125: '}'\t126: '~'\t127: ''\t\n"
     ]
    }
   ],
   "execution_count": 80
  },
  {
   "metadata": {},
   "cell_type": "code",
   "outputs": [],
   "execution_count": null,
   "source": ""
  }
 ],
 "metadata": {
  "kernelspec": {
   "display_name": "Kotlin",
   "language": "kotlin",
   "name": "kotlin"
  },
  "language_info": {
   "name": "kotlin",
   "version": "2.2.20-Beta2",
   "mimetype": "text/x-kotlin",
   "file_extension": ".kt",
   "pygments_lexer": "kotlin",
   "codemirror_mode": "text/x-kotlin",
   "nbconvert_exporter": ""
  }
 },
 "nbformat": 4,
 "nbformat_minor": 0
}
