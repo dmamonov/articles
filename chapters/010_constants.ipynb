{
 "cells": [
  {
   "metadata": {},
   "cell_type": "markdown",
   "source": "# Basic Time Constants"
  },
  {
   "metadata": {
    "collapsed": true,
    "ExecuteTime": {
     "end_time": "2025-10-04T10:12:59.105576Z",
     "start_time": "2025-10-04T10:12:59.036071Z"
    }
   },
   "cell_type": "code",
   "source": [
    "val secondsInOneHour = 60 * 60\n",
    "println(\"Number of seconds in 1 hour: $secondsInOneHour\")"
   ],
   "outputs": [
    {
     "name": "stdout",
     "output_type": "stream",
     "text": [
      "Number of seconds in 1 hour: 3600\n"
     ]
    }
   ],
   "execution_count": 32
  },
  {
   "metadata": {
    "ExecuteTime": {
     "end_time": "2025-10-04T10:12:59.171472Z",
     "start_time": "2025-10-04T10:12:59.113963Z"
    }
   },
   "cell_type": "code",
   "source": [
    "val secondsInOneDay = 24 * secondsInOneHour\n",
    "println(\"Number of seconds in 1 day: $secondsInOneDay\")"
   ],
   "outputs": [
    {
     "name": "stdout",
     "output_type": "stream",
     "text": [
      "Number of seconds in 1 day: 86400\n"
     ]
    }
   ],
   "execution_count": 33
  },
  {
   "metadata": {
    "ExecuteTime": {
     "end_time": "2025-10-04T10:12:59.210935Z",
     "start_time": "2025-10-04T10:12:59.177843Z"
    }
   },
   "cell_type": "code",
   "source": [
    "val secondsInOneWeek = 7 * secondsInOneDay\n",
    "println(\"Number of seconds in 1 week: $secondsInOneWeek\")"
   ],
   "outputs": [
    {
     "name": "stdout",
     "output_type": "stream",
     "text": [
      "Number of seconds in 1 week: 604800\n"
     ]
    }
   ],
   "execution_count": 34
  },
  {
   "metadata": {
    "ExecuteTime": {
     "end_time": "2025-10-04T10:12:59.250008Z",
     "start_time": "2025-10-04T10:12:59.218872Z"
    }
   },
   "cell_type": "code",
   "source": [
    "val daysInOneMillionSeconds = 1_000_000 / secondsInOneDay\n",
    "println(\"Number of days in 1 million seconds: $daysInOneMillionSeconds\")"
   ],
   "outputs": [
    {
     "name": "stdout",
     "output_type": "stream",
     "text": [
      "Number of days in 1 million seconds: 11\n"
     ]
    }
   ],
   "execution_count": 35
  },
  {
   "metadata": {
    "ExecuteTime": {
     "end_time": "2025-10-04T10:12:59.287043Z",
     "start_time": "2025-10-04T10:12:59.256566Z"
    }
   },
   "cell_type": "code",
   "source": [
    "val secondsInOneMonth = 30 * secondsInOneDay\n",
    "println(\"Number of seconds in 1 month (appox. 30 days): $secondsInOneMonth\")"
   ],
   "outputs": [
    {
     "name": "stdout",
     "output_type": "stream",
     "text": [
      "Number of seconds in 1 month (appox. 30 days): 2592000\n"
     ]
    }
   ],
   "execution_count": 36
  },
  {
   "metadata": {
    "ExecuteTime": {
     "end_time": "2025-10-04T10:18:17.306880Z",
     "start_time": "2025-10-04T10:18:17.205896Z"
    }
   },
   "cell_type": "code",
   "source": [
    "val secondsInOneYear = 365 * secondsInOneDay\n",
    "println(\"Number of seconds in 1 year: $secondsInOneYear\")"
   ],
   "outputs": [
    {
     "name": "stdout",
     "output_type": "stream",
     "text": [
      "Number of seconds in 1 year: 31536000\n"
     ]
    }
   ],
   "execution_count": 39
  },
  {
   "metadata": {},
   "cell_type": "markdown",
   "source": "## Basic Power of 2 Constants"
  },
  {
   "metadata": {
    "ExecuteTime": {
     "end_time": "2025-10-04T10:29:45.188944Z",
     "start_time": "2025-10-04T10:29:45.142637Z"
    }
   },
   "cell_type": "code",
   "source": [
    "fun power(value: Int, exponent: Int): Long {\n",
    "    check(value >= 0) { \"value must be a non-negative number\" }\n",
    "    check(exponent >= 0) { \"exponent must be non-negative number\" }\n",
    "    return if (exponent == 0) 1\n",
    "    else value * power(value, exponent - 1)\n",
    "}"
   ],
   "outputs": [],
   "execution_count": 58
  },
  {
   "metadata": {
    "ExecuteTime": {
     "end_time": "2025-10-04T10:53:04.593927Z",
     "start_time": "2025-10-04T10:53:04.221677Z"
    }
   },
   "cell_type": "code",
   "source": [
    "print(\"  \"); print(power(2,0)); println(\" = 2^0 - any number to the power of 0 is 1\")\n",
    "print(\"  \"); print(power(2,1)); println(\" = 2^1 - this is number of values of 1 bit or boolean (true/false)\")\n",
    "print(\"  \"); print(power(2,2)); println(\" = 2^2 - this is number od DNA nucleotides (A, T, C, G)\")\n",
    "print(\"  \"); print(power(2,3)); println(\" = 2^3 - this is number bits in 1 byte\")\n",
    "print(\" \");  print(power(2,4)); println(\" = 2^4 - this is number of compass points (North, Noth-North-East, ...)\")\n",
    "print(\" \");  print(power(2,5)); println(\" = 2^5 - number of bits in integer, freezing temperature in Fahrenheit scale\")\n",
    "print(\" \");  print(power(2,6)); println(\" = 2^6 - this is numebr of cell on a chess board\")\n",
    "print(\"\");   print(power(2,7)); println(\" = 2^7 - this is a size of ASCII table\")\n",
    "print(\"\");   print(power(2,8)); println(\" = 2^8 - this is unique number of values in 1 byte\")"
   ],
   "outputs": [
    {
     "name": "stdout",
     "output_type": "stream",
     "text": [
      "  1 = 2^0 - any number to the power of 0 is 1\n",
      "  2 = 2^1 - this is number of values of 1 bit or boolean (true/false)\n",
      "  4 = 2^2 - this is number od DNA nucleotides (A, T, C, G)\n",
      "  8 = 2^3 - this is number bits in 1 byte\n",
      " 16 = 2^4 - this is number of compass points (North, Noth-North-East, ...)\n",
      " 32 = 2^5 - number of bits in integer, freezing temperature in Fahrenheit scale\n",
      " 64 = 2^6 - this is numebr of cell on a chess board\n",
      "128 = 2^7 - this is a size of ASCII table\n",
      "256 = 2^8 - this is unique number of values in 1 byte\n"
     ]
    }
   ],
   "execution_count": 81
  },
  {
   "metadata": {},
   "cell_type": "markdown",
   "source": "## Data Size Constants"
  },
  {
   "metadata": {
    "ExecuteTime": {
     "end_time": "2025-10-04T10:45:29.581841Z",
     "start_time": "2025-10-04T10:45:29.347980Z"
    }
   },
   "cell_type": "code",
   "source": [
    "print(\"            \"); print(power(2,10)); println(\" = 2^10 - this is 1 Kilobyte (KB)\")\n",
    "print(\"         \");    print(power(2,20)); println(\" = 2^20 - this is 1 Megabyte (MB)\")\n",
    "print(\"      \");       print(power(2,30)); println(\" = 2^30 - this is 1 Gigabyte (GB)\")\n",
    "print(\"   \");          print(power(2,40)); println(\" = 2^40 - this is 1 Terabyte (TB)\")\n",
    "print(\"\");             print(power(2,50)); println(\" = 2^50 - this is 1 Petabyte (PB)\")"
   ],
   "outputs": [
    {
     "name": "stdout",
     "output_type": "stream",
     "text": [
      "            1024 = 2^10 - this is 1 Kilobyte (KB)\n",
      "         1048576 = 2^20 - this is 1 Megabyte (MB)\n",
      "      1073741824 = 2^30 - this is 1 Gigabyte (GB)\n",
      "   1099511627776 = 2^40 - this is 1 Terabyte (TB)\n",
      "1125899906842624 = 2^50 - this is 1 Petabyte (PB)\n"
     ]
    }
   ],
   "execution_count": 77
  },
  {
   "metadata": {},
   "cell_type": "markdown",
   "source": "## ASCII Table"
  },
  {
   "metadata": {
    "ExecuteTime": {
     "end_time": "2025-10-04T10:54:38.100957Z",
     "start_time": "2025-10-04T10:54:37.941303Z"
    }
   },
   "cell_type": "code",
   "source": [
    "for (i in 32..127) {\n",
    "    print(\"${\"%3d\".format(i)}: '${i.toChar()}'  \")\n",
    "    if ((i - 31) % 8 == 0) println()\n",
    "}"
   ],
   "outputs": [
    {
     "name": "stdout",
     "output_type": "stream",
     "text": [
      " 32: ' '   33: '!'   34: '\"'   35: '#'   36: '$'   37: '%'   38: '&'   39: '''  \n",
      " 40: '('   41: ')'   42: '*'   43: '+'   44: ','   45: '-'   46: '.'   47: '/'  \n",
      " 48: '0'   49: '1'   50: '2'   51: '3'   52: '4'   53: '5'   54: '6'   55: '7'  \n",
      " 56: '8'   57: '9'   58: ':'   59: ';'   60: '<'   61: '='   62: '>'   63: '?'  \n",
      " 64: '@'   65: 'A'   66: 'B'   67: 'C'   68: 'D'   69: 'E'   70: 'F'   71: 'G'  \n",
      " 72: 'H'   73: 'I'   74: 'J'   75: 'K'   76: 'L'   77: 'M'   78: 'N'   79: 'O'  \n",
      " 80: 'P'   81: 'Q'   82: 'R'   83: 'S'   84: 'T'   85: 'U'   86: 'V'   87: 'W'  \n",
      " 88: 'X'   89: 'Y'   90: 'Z'   91: '['   92: '\\'   93: ']'   94: '^'   95: '_'  \n",
      " 96: '`'   97: 'a'   98: 'b'   99: 'c'  100: 'd'  101: 'e'  102: 'f'  103: 'g'  \n",
      "104: 'h'  105: 'i'  106: 'j'  107: 'k'  108: 'l'  109: 'm'  110: 'n'  111: 'o'  \n",
      "112: 'p'  113: 'q'  114: 'r'  115: 's'  116: 't'  117: 'u'  118: 'v'  119: 'w'  \n",
      "120: 'x'  121: 'y'  122: 'z'  123: '{'  124: '|'  125: '}'  126: '~'  127: ''  \n"
     ]
    }
   ],
   "execution_count": 82
  },
  {
   "metadata": {},
   "cell_type": "code",
   "outputs": [],
   "execution_count": null,
   "source": ""
  }
 ],
 "metadata": {
  "kernelspec": {
   "display_name": "Kotlin",
   "language": "kotlin",
   "name": "kotlin"
  },
  "language_info": {
   "name": "kotlin",
   "version": "2.2.20-Beta2",
   "mimetype": "text/x-kotlin",
   "file_extension": ".kt",
   "pygments_lexer": "kotlin",
   "codemirror_mode": "text/x-kotlin",
   "nbconvert_exporter": ""
  }
 },
 "nbformat": 4,
 "nbformat_minor": 0
}
